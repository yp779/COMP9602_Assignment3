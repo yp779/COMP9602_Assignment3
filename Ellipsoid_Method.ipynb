{
 "cells": [
  {
   "cell_type": "code",
   "execution_count": 19,
   "id": "59cab37c-a00a-4005-b6dd-5ba4453147e6",
   "metadata": {},
   "outputs": [],
   "source": [
    "import numpy as np\n",
    "import pickle"
   ]
  },
  {
   "cell_type": "code",
   "execution_count": 24,
   "id": "ec53dbfa-9437-4916-80c7-b0cb9068fb9f",
   "metadata": {},
   "outputs": [],
   "source": [
    "instance = np.load('2d_instance.npz', allow_pickle = False)"
   ]
  },
  {
   "cell_type": "code",
   "execution_count": 25,
   "id": "8e093fdd-55b2-4aeb-a665-88bc6196cc41",
   "metadata": {},
   "outputs": [
    {
     "name": "stdout",
     "output_type": "stream",
     "text": [
      "['a_max', 'y_init', 'lx', 'hx']\n"
     ]
    }
   ],
   "source": [
    "print(instance.files)"
   ]
  },
  {
   "cell_type": "code",
   "execution_count": 26,
   "id": "aeaac5a6-98e3-40db-bf6b-b2cd27940089",
   "metadata": {},
   "outputs": [
    {
     "name": "stdout",
     "output_type": "stream",
     "text": [
      "[40 40 40]\n",
      "14.700000000000001\n"
     ]
    }
   ],
   "source": [
    "\n",
    "# Access numpy arrays using keys\n",
    "a_max = instance['a_max']\n",
    "y_init = instance['y_init']\n",
    "lx = instance['lx']\n",
    "hx = instance['hx']\n",
    "\n",
    "# Print the shapes of the numpy arrays\n",
    "print(hx)\n",
    "print(a_max)"
   ]
  },
  {
   "cell_type": "code",
   "execution_count": null,
   "id": "804aa72d-01fd-4290-a124-23882112fac1",
   "metadata": {},
   "outputs": [],
   "source": []
  },
  {
   "cell_type": "code",
   "execution_count": null,
   "id": "8fd3455c-a6fe-4662-baea-6d84929d237b",
   "metadata": {},
   "outputs": [],
   "source": []
  },
  {
   "cell_type": "code",
   "execution_count": null,
   "id": "518f386a-4bc7-4d34-bc77-35714d5cc710",
   "metadata": {},
   "outputs": [],
   "source": []
  },
  {
   "cell_type": "code",
   "execution_count": null,
   "id": "bb679f24-e163-4ee1-9cb7-676d6d05b24e",
   "metadata": {},
   "outputs": [],
   "source": []
  },
  {
   "cell_type": "code",
   "execution_count": null,
   "id": "a7d95108-249e-4219-8b69-ac39dd759b4e",
   "metadata": {},
   "outputs": [],
   "source": []
  },
  {
   "cell_type": "code",
   "execution_count": null,
   "id": "1bbc75bf-dc24-450a-95dd-30d4a5c617cf",
   "metadata": {},
   "outputs": [],
   "source": []
  },
  {
   "cell_type": "code",
   "execution_count": null,
   "id": "6d23e3d5-0ec4-4d33-b3bd-413dfe928cbd",
   "metadata": {},
   "outputs": [],
   "source": []
  },
  {
   "cell_type": "code",
   "execution_count": null,
   "id": "40876412-ab98-4088-9312-3c2e4d103afa",
   "metadata": {},
   "outputs": [],
   "source": []
  },
  {
   "cell_type": "code",
   "execution_count": null,
   "id": "cd575e5b-1516-4d7c-b51d-8fb0a03f2817",
   "metadata": {},
   "outputs": [],
   "source": []
  },
  {
   "cell_type": "code",
   "execution_count": null,
   "id": "09d3caad-0028-4f9f-b26e-a67db082fe5b",
   "metadata": {},
   "outputs": [],
   "source": []
  }
 ],
 "metadata": {
  "kernelspec": {
   "display_name": "pytorch",
   "language": "python",
   "name": "pytorch"
  },
  "language_info": {
   "codemirror_mode": {
    "name": "ipython",
    "version": 3
   },
   "file_extension": ".py",
   "mimetype": "text/x-python",
   "name": "python",
   "nbconvert_exporter": "python",
   "pygments_lexer": "ipython3",
   "version": "3.8.18"
  }
 },
 "nbformat": 4,
 "nbformat_minor": 5
}
